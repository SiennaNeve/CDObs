{
 "cells": [
  {
   "cell_type": "code",
   "execution_count": 2,
   "metadata": {},
   "outputs": [
    {
     "name": "stderr",
     "output_type": "stream",
     "text": [
      "/tmp/ipykernel_1313651/3698364970.py:42: MatplotlibDeprecationWarning: The seaborn styles shipped by Matplotlib are deprecated since 3.6, as they no longer correspond to the styles shipped by seaborn. However, they will remain available as 'seaborn-v0_8-<style>'. Alternatively, directly use the seaborn API instead.\n",
      "  mpl.style.use('seaborn-muted')\n"
     ]
    }
   ],
   "source": [
    "import cartopy\n",
    "import cartopy.crs as ccrs\n",
    "import cartopy.feature as cfeature\n",
    "import cmocean\n",
    "import csv\n",
    "import datetime\n",
    "import gsw\n",
    "import glob\n",
    "import matplotlib as mpl\n",
    "from matplotlib import colors\n",
    "import matplotlib.cm as cm\n",
    "#import matplotlib.colormaps as cmaps\n",
    "import matplotlib.colors as mcolors\n",
    "import matplotlib.gridspec as gridspec\n",
    "from matplotlib.colors import ListedColormap, BoundaryNorm\n",
    "import matplotlib.lines as mlines\n",
    "import matplotlib.ticker as mticker\n",
    "import matplotlib.path as mpath\n",
    "import matplotlib.pyplot as plt\n",
    "import matplotlib.ticker as ticker\n",
    "import mpl_toolkits.axes_grid1.inset_locator as inset_axes\n",
    "import numpy.ma as ma\n",
    "import numpy as np\n",
    "from numpy import linspace\n",
    "import os\n",
    "import pandas as pd\n",
    "#import rasterio.plot\n",
    "import scipy.io\n",
    "from scipy.interpolate import griddata\n",
    "from scipy.interpolate import griddata, CloughTocher2DInterpolator\n",
    "#import seaborn as sns\n",
    "import seawater\n",
    "import seawater.eos80 as sw\n",
    "import xarray as xr\n",
    "from matplotlib import cm\n",
    "from matplotlib.colors import LinearSegmentedColormap\n",
    "from matplotlib.ticker import MaxNLocator\n",
    "from shapely.geometry import LineString, MultiLineString, Point, Polygon\n",
    "from shapely.ops import unary_union\n",
    "\n",
    "\n",
    "mpl.style.use('seaborn-muted')\n",
    "#mpl.rc('font', family ='Arial')"
   ]
  },
  {
   "cell_type": "code",
   "execution_count": 3,
   "metadata": {},
   "outputs": [
    {
     "ename": "NameError",
     "evalue": "name 'bedmachine_v3_path' is not defined",
     "output_type": "error",
     "traceback": [
      "\u001b[0;31m---------------------------------------------------------------------------\u001b[0m",
      "\u001b[0;31mNameError\u001b[0m                                 Traceback (most recent call last)",
      "Cell \u001b[0;32mIn[3], line 1\u001b[0m\n\u001b[0;32m----> 1\u001b[0m bm3_raw \u001b[38;5;241m=\u001b[39m xr\u001b[38;5;241m.\u001b[39mload_dataset(bedmachine_v3_path)\n\u001b[1;32m      3\u001b[0m \u001b[38;5;66;03m#subset bedmachine dataset\u001b[39;00m\n\u001b[1;32m      4\u001b[0m bm3\u001b[38;5;241m=\u001b[39mbm3_raw\u001b[38;5;241m.\u001b[39msel(x\u001b[38;5;241m=\u001b[39m\u001b[38;5;28mslice\u001b[39m(\u001b[38;5;241m1e6\u001b[39m,\u001b[38;5;241m3.3e6\u001b[39m))\u001b[38;5;241m.\u001b[39msel(y\u001b[38;5;241m=\u001b[39m\u001b[38;5;28mslice\u001b[39m(\u001b[38;5;241m1.5e6\u001b[39m,\u001b[38;5;241m0\u001b[39m)) \u001b[38;5;66;03m# note reversed y coord\u001b[39;00m\n",
      "\u001b[0;31mNameError\u001b[0m: name 'bedmachine_v3_path' is not defined"
     ]
    }
   ],
   "source": [
    "bm3_raw = xr.load_dataset(bedmachine_v3_path)\n",
    "\n",
    "#subset bedmachine dataset\n",
    "bm3=bm3_raw.sel(x=slice(1e6,3.3e6)).sel(y=slice(1.5e6,0)) # note reversed y coord\n",
    "\n",
    "# make XX and YY coordinates\n",
    "X,Y = np.meshgrid(bm3.x,bm3.y)\n",
    "bm3 = bm3.assign_coords({\"X\": ((\"y\", \"x\"), X), \"Y\": ((\"y\", \"x\"), Y)})\n",
    "\n",
    "bm3_lat,bm3_lon = ps_to_ll.transform(bm3.X,bm3.Y)\n",
    "bm3 = bm3.assign_coords({\"lon\": ((\"y\", \"x\"), bm3_lon), \"lat\": ((\"y\", \"x\"), bm3_lat)})\n",
    "\n",
    "# make 'draft' abd 'bathy' variables\n",
    "bm3[\"draft\"]=-(bm3.thickness-bm3.surface) #draft is negative\n",
    "bm3[\"bathy\"]=-bm3.bed # bathy is postive"
   ]
  },
  {
   "cell_type": "code",
   "execution_count": null,
   "metadata": {},
   "outputs": [],
   "source": [
    "\n",
    "# geom.draft.plot(x='lon',y='lat')\n",
    "\n",
    "trans_lon = np.ones(1000)*68\n",
    "trans_lat = np.linspace(-68.2,-65,1000)\n",
    "\n",
    "from scipy.interpolate import griddata\n",
    "lat_s = geom.lat.values.flatten()\n",
    "lon_s = geom.lon.values.flatten()\n",
    "\n",
    "trans_draft = griddata((lon_s,lat_s),geom['draft'].values.flatten(),(trans_lon,trans_lat),'nearest')\n",
    "trans_bathy = griddata((lon_s,lat_s),geom['bathy'].values.flatten(),(trans_lon,trans_lat),'nearest')"
   ]
  },
  {
   "cell_type": "code",
   "execution_count": null,
   "metadata": {},
   "outputs": [],
   "source": [
    "plt.plot(trans_lat,trans_draft)\n",
    "plt.plot(trans_lat,-trans_bathy)"
   ]
  }
 ],
 "metadata": {
  "kernelspec": {
   "display_name": "devel",
   "language": "python",
   "name": "python3"
  },
  "language_info": {
   "codemirror_mode": {
    "name": "ipython",
    "version": 3
   },
   "file_extension": ".py",
   "mimetype": "text/x-python",
   "name": "python",
   "nbconvert_exporter": "python",
   "pygments_lexer": "ipython3",
   "version": "3.11.5"
  }
 },
 "nbformat": 4,
 "nbformat_minor": 2
}
