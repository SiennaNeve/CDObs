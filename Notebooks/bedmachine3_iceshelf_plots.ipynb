{
 "cells": [
  {
   "cell_type": "code",
   "execution_count": null,
   "metadata": {},
   "outputs": [],
   "source": [
    "import cartopy\n",
    "import cartopy.crs as ccrs\n",
    "import cartopy.feature as cfeature\n",
    "import cmocean\n",
    "import csv\n",
    "import datetime\n",
    "import gsw\n",
    "import glob\n",
    "import matplotlib as mpl\n",
    "from matplotlib import colors\n",
    "import matplotlib.cm as cm\n",
    "#import matplotlib.colormaps as cmaps\n",
    "import matplotlib.colors as mcolors\n",
    "import matplotlib.gridspec as gridspec\n",
    "from matplotlib.colors import ListedColormap, BoundaryNorm\n",
    "import matplotlib.lines as mlines\n",
    "import matplotlib.ticker as mticker\n",
    "import matplotlib.path as mpath\n",
    "import matplotlib.pyplot as plt\n",
    "import matplotlib.ticker as ticker\n",
    "import mpl_toolkits.axes_grid1.inset_locator as inset_axes\n",
    "import numpy.ma as ma\n",
    "import numpy as np\n",
    "from numpy import linspace\n",
    "import os\n",
    "import pandas as pd\n",
    "#import rasterio.plot\n",
    "import scipy.io\n",
    "from scipy.interpolate import griddata\n",
    "from scipy.interpolate import griddata, CloughTocher2DInterpolator\n",
    "#import seaborn as sns\n",
    "import seawater\n",
    "import seawater.eos80 as sw\n",
    "import xarray as xr\n",
    "from matplotlib import cm\n",
    "from matplotlib.colors import LinearSegmentedColormap\n",
    "from matplotlib.ticker import MaxNLocator\n",
    "from shapely.geometry import LineString, MultiLineString, Point, Polygon\n",
    "from shapely.ops import unary_union\n",
    "\n",
    "\n",
    "mpl.style.use('seaborn-muted')\n",
    "#mpl.rc('font', family ='Arial')"
   ]
  },
  {
   "cell_type": "code",
   "execution_count": null,
   "metadata": {},
   "outputs": [],
   "source": [
    "bm3_raw = xr.load_dataset(bedmachine_v3_path)\n",
    "\n",
    "#subset bedmachine dataset\n",
    "bm3=bm3_raw.sel(x=slice(1e6,3.3e6)).sel(y=slice(1.5e6,0)) # note reversed y coord\n",
    "\n",
    "# make XX and YY coordinates\n",
    "X,Y = np.meshgrid(bm3.x,bm3.y)\n",
    "bm3 = bm3.assign_coords({\"X\": ((\"y\", \"x\"), X), \"Y\": ((\"y\", \"x\"), Y)})\n",
    "\n",
    "bm3_lat,bm3_lon = ps_to_ll.transform(bm3.X,bm3.Y)\n",
    "bm3 = bm3.assign_coords({\"lon\": ((\"y\", \"x\"), bm3_lon), \"lat\": ((\"y\", \"x\"), bm3_lat)})\n",
    "\n",
    "# make 'draft' abd 'bathy' variables\n",
    "bm3[\"draft\"]=-(bm3.thickness-bm3.surface) #draft is negative\n",
    "bm3[\"bathy\"]=-bm3.bed # bathy is postive"
   ]
  },
  {
   "cell_type": "code",
   "execution_count": null,
   "metadata": {},
   "outputs": [],
   "source": [
    "\n",
    "# geom.draft.plot(x='lon',y='lat')\n",
    "\n",
    "trans_lon = np.ones(1000)*68\n",
    "trans_lat = np.linspace(-68.2,-65,1000)\n",
    "\n",
    "from scipy.interpolate import griddata\n",
    "lat_s = geom.lat.values.flatten()\n",
    "lon_s = geom.lon.values.flatten()\n",
    "\n",
    "trans_draft = griddata((lon_s,lat_s),geom['draft'].values.flatten(),(trans_lon,trans_lat),'nearest')\n",
    "trans_bathy = griddata((lon_s,lat_s),geom['bathy'].values.flatten(),(trans_lon,trans_lat),'nearest')"
   ]
  },
  {
   "cell_type": "code",
   "execution_count": null,
   "metadata": {},
   "outputs": [],
   "source": [
    "plt.plot(trans_lat,trans_draft)\n",
    "plt.plot(trans_lat,-trans_bathy)"
   ]
  }
 ],
 "metadata": {
  "language_info": {
   "name": "python"
  }
 },
 "nbformat": 4,
 "nbformat_minor": 2
}
