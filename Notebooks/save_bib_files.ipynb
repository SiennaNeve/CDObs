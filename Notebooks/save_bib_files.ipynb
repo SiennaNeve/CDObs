{
 "cells": [
  {
   "cell_type": "code",
   "execution_count": 1,
   "metadata": {},
   "outputs": [
    {
     "name": "stderr",
     "output_type": "stream",
     "text": [
      "/tmp/ipykernel_1986375/576144183.py:39: MatplotlibDeprecationWarning: The seaborn styles shipped by Matplotlib are deprecated since 3.6, as they no longer correspond to the styles shipped by seaborn. However, they will remain available as 'seaborn-v0_8-<style>'. Alternatively, directly use the seaborn API instead.\n",
      "  mpl.style.use('seaborn-muted')\n"
     ]
    }
   ],
   "source": [
    "import cartopy\n",
    "import cartopy.crs as ccrs\n",
    "import cartopy.feature as cfeature\n",
    "import cmocean\n",
    "import csv\n",
    "import datetime\n",
    "import gsw\n",
    "import glob\n",
    "import matplotlib as mpl\n",
    "from matplotlib import colors\n",
    "import matplotlib.cm as cm\n",
    "#import matplotlib.colormaps as cmaps\n",
    "import matplotlib.colors as mcolors\n",
    "import matplotlib.gridspec as gridspec\n",
    "import matplotlib.lines as mlines\n",
    "import matplotlib.ticker as mticker\n",
    "import matplotlib.pyplot as plt\n",
    "import matplotlib.ticker as ticker\n",
    "import mpl_toolkits.axes_grid1.inset_locator as inset_axes\n",
    "import numpy.ma as ma\n",
    "import numpy as np\n",
    "from numpy import linspace\n",
    "import os\n",
    "import pandas as pd\n",
    "#import rasterio.plot\n",
    "import scipy.io\n",
    "from scipy.interpolate import griddata\n",
    "#import seaborn as sns\n",
    "import seawater\n",
    "import seawater.eos80 as sw\n",
    "import xarray as xr\n",
    "from matplotlib import cm\n",
    "from matplotlib.colors import LinearSegmentedColormap\n",
    "from matplotlib.ticker import MaxNLocator\n",
    "from shapely.geometry import LineString, MultiLineString, Point, Polygon\n",
    "from shapely.ops import unary_union\n",
    "\n",
    "\n",
    "mpl.style.use('seaborn-muted')\n",
    "#mpl.rc('font', family ='Arial')"
   ]
  },
  {
   "cell_type": "code",
   "execution_count": null,
   "metadata": {},
   "outputs": [],
   "source": [
    "def combine_bib_files(input_directory, output_file):\n",
    "    with open(output_file, 'w') as output:\n",
    "        for filename in os.listdir(input_directory):\n",
    "            if filename.endswith('.bib'):\n",
    "                filepath = os.path.join(input_directory, filename)\n",
    "                with open(filepath, 'r') as bib_file:\n",
    "                    output.write(bib_file.read())\n",
    "                    output.write('\\n')\n",
    "\n",
    "# Example usage:\n",
    "input_directory = '/path/to/bib/files'\n",
    "output_file = '/path/to/output/combined.bib'\n",
    "\n",
    "combine_bib_files(input_directory, output_file)\n"
   ]
  }
 ],
 "metadata": {
  "kernelspec": {
   "display_name": "devel",
   "language": "python",
   "name": "python3"
  },
  "language_info": {
   "codemirror_mode": {
    "name": "ipython",
    "version": 3
   },
   "file_extension": ".py",
   "mimetype": "text/x-python",
   "name": "python",
   "nbconvert_exporter": "python",
   "pygments_lexer": "ipython3",
   "version": "3.11.5"
  }
 },
 "nbformat": 4,
 "nbformat_minor": 2
}
